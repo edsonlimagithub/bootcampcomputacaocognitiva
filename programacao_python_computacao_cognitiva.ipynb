{
  "nbformat": 4,
  "nbformat_minor": 0,
  "metadata": {
    "colab": {
      "name": "programacao_python_computacao_cognitiva.ipynb",
      "provenance": [],
      "authorship_tag": "ABX9TyMqfoW9wlLNu2ZxVlF7Km9h",
      "include_colab_link": true
    },
    "kernelspec": {
      "name": "python3",
      "display_name": "Python 3"
    },
    "language_info": {
      "name": "python"
    }
  },
  "cells": [
    {
      "cell_type": "markdown",
      "metadata": {
        "id": "view-in-github",
        "colab_type": "text"
      },
      "source": [
        "<a href=\"https://colab.research.google.com/github/edsonlimagithub/bootcampcomputacaocognitiva/blob/master/programacao_python_computacao_cognitiva.ipynb\" target=\"_parent\"><img src=\"https://colab.research.google.com/assets/colab-badge.svg\" alt=\"Open In Colab\"/></a>"
      ]
    },
    {
      "cell_type": "code",
      "execution_count": null,
      "metadata": {
        "id": "sugXyOkCRGLk"
      },
      "outputs": [],
      "source": [
        ""
      ]
    }
  ]
}